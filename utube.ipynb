{
 "cells": [
  {
   "attachments": {},
   "cell_type": "markdown",
   "metadata": {},
   "source": [
    "## package "
   ]
  },
  {
   "cell_type": "code",
   "execution_count": 41,
   "metadata": {},
   "outputs": [
    {
     "name": "stdout",
     "output_type": "stream",
     "text": [
      "Collecting youtube-comment-downloader\n",
      "  Downloading youtube_comment_downloader-0.1.67-py3-none-any.whl (7.6 kB)\n",
      "Requirement already satisfied: requests in /opt/homebrew/Caskroom/miniforge/base/envs/yd/lib/python3.9/site-packages (from youtube-comment-downloader) (2.28.1)\n",
      "Collecting dateparser\n",
      "  Downloading dateparser-1.1.4-py2.py3-none-any.whl (292 kB)\n",
      "\u001b[2K     \u001b[90m━━━━━━━━━━━━━━━━━━━━━━━━━━━━━━━━━━━━━━━\u001b[0m \u001b[32m292.9/292.9 kB\u001b[0m \u001b[31m1.5 MB/s\u001b[0m eta \u001b[36m0:00:00\u001b[0ma \u001b[36m0:00:01\u001b[0m\n",
      "\u001b[?25hCollecting regex!=2019.02.19,!=2021.8.27\n",
      "  Downloading regex-2022.10.31-cp39-cp39-macosx_11_0_arm64.whl (287 kB)\n",
      "\u001b[2K     \u001b[90m━━━━━━━━━━━━━━━━━━━━━━━━━━━━━━━━━━━━━━━\u001b[0m \u001b[32m287.2/287.2 kB\u001b[0m \u001b[31m2.3 MB/s\u001b[0m eta \u001b[36m0:00:00\u001b[0ma \u001b[36m0:00:01\u001b[0m\n",
      "\u001b[?25hRequirement already satisfied: pytz in /opt/homebrew/Caskroom/miniforge/base/envs/yd/lib/python3.9/site-packages (from dateparser->youtube-comment-downloader) (2022.6)\n",
      "Collecting tzlocal\n",
      "  Downloading tzlocal-4.2-py3-none-any.whl (19 kB)\n",
      "Requirement already satisfied: python-dateutil in /opt/homebrew/Caskroom/miniforge/base/envs/yd/lib/python3.9/site-packages (from dateparser->youtube-comment-downloader) (2.8.2)\n",
      "Requirement already satisfied: urllib3<1.27,>=1.21.1 in /opt/homebrew/Caskroom/miniforge/base/envs/yd/lib/python3.9/site-packages (from requests->youtube-comment-downloader) (1.26.13)\n",
      "Requirement already satisfied: certifi>=2017.4.17 in /opt/homebrew/Caskroom/miniforge/base/envs/yd/lib/python3.9/site-packages (from requests->youtube-comment-downloader) (2022.12.7)\n",
      "Requirement already satisfied: idna<4,>=2.5 in /opt/homebrew/Caskroom/miniforge/base/envs/yd/lib/python3.9/site-packages (from requests->youtube-comment-downloader) (3.4)\n",
      "Requirement already satisfied: charset-normalizer<3,>=2 in /opt/homebrew/Caskroom/miniforge/base/envs/yd/lib/python3.9/site-packages (from requests->youtube-comment-downloader) (2.1.1)\n",
      "Requirement already satisfied: six>=1.5 in /opt/homebrew/Caskroom/miniforge/base/envs/yd/lib/python3.9/site-packages (from python-dateutil->dateparser->youtube-comment-downloader) (1.16.0)\n",
      "Collecting pytz-deprecation-shim\n",
      "  Downloading pytz_deprecation_shim-0.1.0.post0-py2.py3-none-any.whl (15 kB)\n",
      "Collecting tzdata\n",
      "  Downloading tzdata-2022.7-py2.py3-none-any.whl (340 kB)\n",
      "\u001b[2K     \u001b[90m━━━━━━━━━━━━━━━━━━━━━━━━━━━━━━━━━━━━━━━\u001b[0m \u001b[32m340.1/340.1 kB\u001b[0m \u001b[31m2.3 MB/s\u001b[0m eta \u001b[36m0:00:00\u001b[0ma \u001b[36m0:00:01\u001b[0m\n",
      "\u001b[?25hInstalling collected packages: tzdata, regex, pytz-deprecation-shim, tzlocal, dateparser, youtube-comment-downloader\n",
      "Successfully installed dateparser-1.1.4 pytz-deprecation-shim-0.1.0.post0 regex-2022.10.31 tzdata-2022.7 tzlocal-4.2 youtube-comment-downloader-0.1.67\n"
     ]
    }
   ],
   "source": [
    "# !pip install youtube-comment-downloader\n",
    "# !pip install pandas"
   ]
  },
  {
   "attachments": {},
   "cell_type": "markdown",
   "metadata": {},
   "source": [
    "## library"
   ]
  },
  {
   "cell_type": "code",
   "execution_count": 103,
   "metadata": {},
   "outputs": [],
   "source": [
    "from itertools import islice\n",
    "from youtube_comment_downloader import *\n",
    "import pandas as pd\n",
    "from tqdm import tqdm "
   ]
  },
  {
   "attachments": {},
   "cell_type": "markdown",
   "metadata": {},
   "source": [
    "## code"
   ]
  },
  {
   "cell_type": "code",
   "execution_count": 109,
   "metadata": {},
   "outputs": [],
   "source": [
    "link = input('youtube link: ')"
   ]
  },
  {
   "cell_type": "code",
   "execution_count": 121,
   "metadata": {},
   "outputs": [
    {
     "name": "stderr",
     "output_type": "stream",
     "text": [
      "100it [00:03, 33.11it/s]\n"
     ]
    }
   ],
   "source": [
    "downloader = YoutubeCommentDownloader()\n",
    "comments = downloader.get_comments_from_url(link, sort_by=0)\n",
    "data = []\n",
    "data_crawl = []\n",
    "limit = 100\n",
    "for comment in tqdm(islice(comments, limit)):\n",
    "    if len(data_crawl) == limit:\n",
    "        data_crawl.clear()\n",
    "        break\n",
    "    else: \n",
    "        data_crawl.append([comment['text'], comment['time'], comment['author'], comment['votes'], comment['heart']])\n",
    "        data.append([comment['text'], comment['time'], comment['author'], comment['votes'], comment['heart']])\n",
    "df = pd.DataFrame(data, columns=['text', 'time', 'author', 'votes', 'heart'])"
   ]
  },
  {
   "cell_type": "code",
   "execution_count": 122,
   "metadata": {},
   "outputs": [
    {
     "data": {
      "text/html": [
       "<div>\n",
       "<style scoped>\n",
       "    .dataframe tbody tr th:only-of-type {\n",
       "        vertical-align: middle;\n",
       "    }\n",
       "\n",
       "    .dataframe tbody tr th {\n",
       "        vertical-align: top;\n",
       "    }\n",
       "\n",
       "    .dataframe thead th {\n",
       "        text-align: right;\n",
       "    }\n",
       "</style>\n",
       "<table border=\"1\" class=\"dataframe\">\n",
       "  <thead>\n",
       "    <tr style=\"text-align: right;\">\n",
       "      <th></th>\n",
       "      <th>text</th>\n",
       "      <th>time</th>\n",
       "      <th>author</th>\n",
       "      <th>votes</th>\n",
       "      <th>heart</th>\n",
       "    </tr>\n",
       "  </thead>\n",
       "  <tbody>\n",
       "    <tr>\n",
       "      <th>0</th>\n",
       "      <td>One of the side effects of global warming rare...</td>\n",
       "      <td>5 年前</td>\n",
       "      <td>Higgolini</td>\n",
       "      <td>7.7K</td>\n",
       "      <td>False</td>\n",
       "    </tr>\n",
       "    <tr>\n",
       "      <th>1</th>\n",
       "      <td>I feel like every Vance Joy song has a deeper ...</td>\n",
       "      <td>6 年前</td>\n",
       "      <td>Maria Rivaldo</td>\n",
       "      <td>2K</td>\n",
       "      <td>False</td>\n",
       "    </tr>\n",
       "    <tr>\n",
       "      <th>2</th>\n",
       "      <td>Lyrics :\\n\\nTalking like we used to do\\nIt was...</td>\n",
       "      <td>2 年前</td>\n",
       "      <td>Aditya</td>\n",
       "      <td>968</td>\n",
       "      <td>False</td>\n",
       "    </tr>\n",
       "    <tr>\n",
       "      <th>3</th>\n",
       "      <td>Everyone has some special songs that hold your...</td>\n",
       "      <td>2 個月前 (已編輯)</td>\n",
       "      <td>Miki Tanaka</td>\n",
       "      <td>29</td>\n",
       "      <td>False</td>\n",
       "    </tr>\n",
       "    <tr>\n",
       "      <th>4</th>\n",
       "      <td>Ive always tried to hide from this song or try...</td>\n",
       "      <td>1 年前</td>\n",
       "      <td>Tortis</td>\n",
       "      <td>227</td>\n",
       "      <td>False</td>\n",
       "    </tr>\n",
       "    <tr>\n",
       "      <th>...</th>\n",
       "      <td>...</td>\n",
       "      <td>...</td>\n",
       "      <td>...</td>\n",
       "      <td>...</td>\n",
       "      <td>...</td>\n",
       "    </tr>\n",
       "    <tr>\n",
       "      <th>95</th>\n",
       "      <td>thanks</td>\n",
       "      <td>2 年前</td>\n",
       "      <td>Jonathan Byers</td>\n",
       "      <td>2</td>\n",
       "      <td>False</td>\n",
       "    </tr>\n",
       "    <tr>\n",
       "      <th>96</th>\n",
       "      <td>What a service...\\nI highly appreciate...</td>\n",
       "      <td>2 年前</td>\n",
       "      <td>Alexander Bertallo</td>\n",
       "      <td>6</td>\n",
       "      <td>False</td>\n",
       "    </tr>\n",
       "    <tr>\n",
       "      <th>97</th>\n",
       "      <td>Tune</td>\n",
       "      <td>2 年前</td>\n",
       "      <td>martinkscott</td>\n",
       "      <td>2</td>\n",
       "      <td>False</td>\n",
       "    </tr>\n",
       "    <tr>\n",
       "      <th>98</th>\n",
       "      <td>The lyrics are in the description but thanks f...</td>\n",
       "      <td>1 年前</td>\n",
       "      <td>BKR</td>\n",
       "      <td>1</td>\n",
       "      <td>False</td>\n",
       "    </tr>\n",
       "    <tr>\n",
       "      <th>99</th>\n",
       "      <td>He's A Poet..</td>\n",
       "      <td>10 個月前</td>\n",
       "      <td>Max RYDER</td>\n",
       "      <td>1</td>\n",
       "      <td>False</td>\n",
       "    </tr>\n",
       "  </tbody>\n",
       "</table>\n",
       "<p>100 rows × 5 columns</p>\n",
       "</div>"
      ],
      "text/plain": [
       "                                                 text         time  \\\n",
       "0   One of the side effects of global warming rare...         5 年前   \n",
       "1   I feel like every Vance Joy song has a deeper ...         6 年前   \n",
       "2   Lyrics :\\n\\nTalking like we used to do\\nIt was...         2 年前   \n",
       "3   Everyone has some special songs that hold your...  2 個月前 (已編輯)   \n",
       "4   Ive always tried to hide from this song or try...         1 年前   \n",
       "..                                                ...          ...   \n",
       "95                                             thanks         2 年前   \n",
       "96          What a service...\\nI highly appreciate...         2 年前   \n",
       "97                                               Tune         2 年前   \n",
       "98  The lyrics are in the description but thanks f...         1 年前   \n",
       "99                                      He's A Poet..       10 個月前   \n",
       "\n",
       "                author votes  heart  \n",
       "0            Higgolini  7.7K  False  \n",
       "1        Maria Rivaldo    2K  False  \n",
       "2               Aditya   968  False  \n",
       "3          Miki Tanaka    29  False  \n",
       "4               Tortis   227  False  \n",
       "..                 ...   ...    ...  \n",
       "95      Jonathan Byers     2  False  \n",
       "96  Alexander Bertallo     6  False  \n",
       "97        martinkscott     2  False  \n",
       "98                 BKR     1  False  \n",
       "99           Max RYDER     1  False  \n",
       "\n",
       "[100 rows x 5 columns]"
      ]
     },
     "execution_count": 122,
     "metadata": {},
     "output_type": "execute_result"
    }
   ],
   "source": [
    "df"
   ]
  },
  {
   "cell_type": "code",
   "execution_count": null,
   "metadata": {},
   "outputs": [],
   "source": []
  }
 ],
 "metadata": {
  "kernelspec": {
   "display_name": "Python 3.9.15 ('yd')",
   "language": "python",
   "name": "python3"
  },
  "language_info": {
   "codemirror_mode": {
    "name": "ipython",
    "version": 3
   },
   "file_extension": ".py",
   "mimetype": "text/x-python",
   "name": "python",
   "nbconvert_exporter": "python",
   "pygments_lexer": "ipython3",
   "version": "3.9.15"
  },
  "orig_nbformat": 4,
  "vscode": {
   "interpreter": {
    "hash": "c22d9fdd49f4cfb5b628cb4413b5c9fb770d5009d91df186e0f7228e8f41f2b3"
   }
  }
 },
 "nbformat": 4,
 "nbformat_minor": 2
}
