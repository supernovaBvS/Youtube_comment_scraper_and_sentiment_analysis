{
 "cells": [
  {
   "attachments": {},
   "cell_type": "markdown",
   "metadata": {},
   "source": [
    "## package "
   ]
  },
  {
   "cell_type": "code",
   "execution_count": null,
   "metadata": {},
   "outputs": [],
   "source": [
    "# !pip install youtube-comment-downloader\n",
    "# !pip install pandas"
   ]
  },
  {
   "attachments": {},
   "cell_type": "markdown",
   "metadata": {},
   "source": [
    "## library"
   ]
  },
  {
   "cell_type": "code",
   "execution_count": 33,
   "metadata": {},
   "outputs": [],
   "source": [
    "from itertools import islice\n",
    "from youtube_comment_downloader import *\n",
    "from pytube import YouTube\n",
    "import pandas as pd\n",
    "from tqdm import tqdm "
   ]
  },
  {
   "attachments": {},
   "cell_type": "markdown",
   "metadata": {},
   "source": [
    "## code"
   ]
  },
  {
   "cell_type": "code",
   "execution_count": 36,
   "metadata": {},
   "outputs": [
    {
     "name": "stdout",
     "output_type": "stream",
     "text": [
      "Title:  백예린(Yerin Baek) - 산책(A Walk 散步) 韓中字\n",
      "View:  5343\n"
     ]
    }
   ],
   "source": [
    "url = input('youtube link: ')\n",
    "yt = YouTube(url)\n",
    "title = yt.title\n",
    "print(\"Title: \", title)\n",
    "print(\"View: \", yt.views)"
   ]
  },
  {
   "cell_type": "code",
   "execution_count": 27,
   "metadata": {},
   "outputs": [],
   "source": [
    "def comment(url, li):\n",
    "    downloader = YoutubeCommentDownloader()\n",
    "    comments = downloader.get_comments_from_url(url, sort_by=0) # sort_by = 0(popular), 1(recent)\n",
    "    data = []\n",
    "    data_crawl = []\n",
    "    limit = li\n",
    "    for comment in tqdm(islice(comments, limit)):\n",
    "        if len(data_crawl) == limit:\n",
    "            data_crawl.clear()\n",
    "            break\n",
    "        else: \n",
    "            data_crawl.append([comment['text'], comment['time'], comment['author'], comment['votes'], comment['heart']])\n",
    "            data.append([comment['text'], comment['time'], comment['author'], comment['votes'], comment['heart']])\n",
    "    df = pd.DataFrame(data, columns=['text', 'time', 'author', 'votes', 'heart'])\n",
    "    return df"
   ]
  },
  {
   "cell_type": "code",
   "execution_count": 37,
   "metadata": {},
   "outputs": [
    {
     "name": "stderr",
     "output_type": "stream",
     "text": [
      "3it [00:01,  2.45it/s]\n"
     ]
    }
   ],
   "source": [
    "df = comment(url, 10000)"
   ]
  },
  {
   "cell_type": "code",
   "execution_count": 38,
   "metadata": {},
   "outputs": [
    {
     "data": {
      "text/html": [
       "<div>\n",
       "<style scoped>\n",
       "    .dataframe tbody tr th:only-of-type {\n",
       "        vertical-align: middle;\n",
       "    }\n",
       "\n",
       "    .dataframe tbody tr th {\n",
       "        vertical-align: top;\n",
       "    }\n",
       "\n",
       "    .dataframe thead th {\n",
       "        text-align: right;\n",
       "    }\n",
       "</style>\n",
       "<table border=\"1\" class=\"dataframe\">\n",
       "  <thead>\n",
       "    <tr style=\"text-align: right;\">\n",
       "      <th></th>\n",
       "      <th>text</th>\n",
       "      <th>time</th>\n",
       "      <th>author</th>\n",
       "      <th>votes</th>\n",
       "      <th>heart</th>\n",
       "    </tr>\n",
       "  </thead>\n",
       "  <tbody>\n",
       "    <tr>\n",
       "      <th>0</th>\n",
       "      <td>很舒服的一首歌，喜歡</td>\n",
       "      <td>6 個月前</td>\n",
       "      <td>@user-xm8xy7tb3k</td>\n",
       "      <td>1</td>\n",
       "      <td>False</td>\n",
       "    </tr>\n",
       "    <tr>\n",
       "      <th>1</th>\n",
       "      <td>整張專輯都好喜歡啊～可以也翻譯go back那首嗎？</td>\n",
       "      <td>1 年前</td>\n",
       "      <td>@user-st1lu5dg1n</td>\n",
       "      <td>0</td>\n",
       "      <td>False</td>\n",
       "    </tr>\n",
       "    <tr>\n",
       "      <th>2</th>\n",
       "      <td>謝謝你🤩🤩🤩🤩\\n整張專輯都會翻譯嗎哈哈</td>\n",
       "      <td>1 年前 (已編輯)</td>\n",
       "      <td>@kikolee7464</td>\n",
       "      <td>0</td>\n",
       "      <td>False</td>\n",
       "    </tr>\n",
       "  </tbody>\n",
       "</table>\n",
       "</div>"
      ],
      "text/plain": [
       "                         text        time            author votes  heart\n",
       "0                  很舒服的一首歌，喜歡       6 個月前  @user-xm8xy7tb3k     1  False\n",
       "1  整張專輯都好喜歡啊～可以也翻譯go back那首嗎？        1 年前  @user-st1lu5dg1n     0  False\n",
       "2        謝謝你🤩🤩🤩🤩\\n整張專輯都會翻譯嗎哈哈  1 年前 (已編輯)      @kikolee7464     0  False"
      ]
     },
     "execution_count": 38,
     "metadata": {},
     "output_type": "execute_result"
    }
   ],
   "source": [
    "df"
   ]
  },
  {
   "cell_type": "code",
   "execution_count": 39,
   "metadata": {},
   "outputs": [],
   "source": [
    "# df.to_csv(f'{title}.csv')"
   ]
  },
  {
   "cell_type": "code",
   "execution_count": null,
   "metadata": {},
   "outputs": [],
   "source": []
  }
 ],
 "metadata": {
  "kernelspec": {
   "display_name": "Python 3.9.15 ('yd')",
   "language": "python",
   "name": "python3"
  },
  "language_info": {
   "codemirror_mode": {
    "name": "ipython",
    "version": 3
   },
   "file_extension": ".py",
   "mimetype": "text/x-python",
   "name": "python",
   "nbconvert_exporter": "python",
   "pygments_lexer": "ipython3",
   "version": "3.9.15"
  },
  "orig_nbformat": 4,
  "vscode": {
   "interpreter": {
    "hash": "c22d9fdd49f4cfb5b628cb4413b5c9fb770d5009d91df186e0f7228e8f41f2b3"
   }
  }
 },
 "nbformat": 4,
 "nbformat_minor": 2
}
